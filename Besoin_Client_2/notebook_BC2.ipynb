{
  "cells": [
    {
      "cell_type": "markdown",
      "metadata": {
        "id": "TngXGhPGutN-"
      },
      "source": [
        "# Besoin Client 2\n"
      ]
    },
    {
      "cell_type": "markdown",
      "source": [
        "# Importation des bibliothèques"
      ],
      "metadata": {
        "id": "Or9m_YpXTWNB"
      }
    },
    {
      "cell_type": "code",
      "execution_count": 16,
      "metadata": {
        "id": "RCTbqKdTN_Ml"
      },
      "outputs": [],
      "source": [
        "#Import\n",
        "import pandas as pd\n",
        "import sklearn\n",
        "import pickle\n",
        "import matplotlib.pyplot as plt\n",
        "import matplotlib as mpl\n",
        "import numpy as np\n",
        "\n",
        "from numpy import sqrt\n",
        "from numpy import mean\n",
        "\n",
        "from sklearn.metrics import mean_squared_error, confusion_matrix, r2_score\n",
        "from sklearn.model_selection import cross_val_score as cv\n",
        "from sklearn.model_selection import cross_val_predict as cvp\n",
        "from sklearn.model_selection import GridSearchCV\n",
        "from sklearn.linear_model import SGDClassifier\n",
        "from sklearn.linear_model import LogisticRegression\n",
        "from sklearn.ensemble import RandomForestClassifier"
      ]
    },
    {
      "cell_type": "markdown",
      "metadata": {
        "id": "XBRkxvKzuzlw"
      },
      "source": [
        "## Préparation des données"
      ]
    },
    {
      "cell_type": "markdown",
      "metadata": {
        "id": "mIaOmQvw6fGj"
      },
      "source": [
        "### Importation données et tri selon MMSI"
      ]
    },
    {
      "cell_type": "code",
      "execution_count": 17,
      "metadata": {
        "collapsed": true,
        "id": "Rhh6ZWTKnrZJ",
        "colab": {
          "base_uri": "https://localhost:8080/"
        },
        "outputId": "4bcaf41c-2f6d-4ee8-89a5-c16b99f8ffff"
      },
      "outputs": [
        {
          "output_type": "stream",
          "name": "stdout",
          "text": [
            "Drive already mounted at /content/drive; to attempt to forcibly remount, call drive.mount(\"/content/drive\", force_remount=True).\n",
            "\n",
            " avant tri \n",
            " 0    367387350\n",
            "1    367477280\n",
            "2    367037610\n",
            "3    368112000\n",
            "4    366954420\n",
            "5    367090270\n",
            "6    367053620\n",
            "7    566996000\n",
            "8    368014310\n",
            "9    366872110\n",
            "Name: MMSI, dtype: int64\n",
            "\n",
            " apres tri \n",
            " 23795     205776000\n",
            "52999     205776000\n",
            "137429    205776000\n",
            "12888     205776000\n",
            "129964    205776000\n",
            "7691      205776000\n",
            "65892     205776000\n",
            "59946     205776000\n",
            "98259     205776000\n",
            "120487    205776000\n",
            "Name: MMSI, dtype: int64\n"
          ]
        }
      ],
      "source": [
        "  from google.colab import drive\n",
        "  drive.mount('/content/drive')\n",
        "\n",
        "  from sklearn.model_selection import train_test_split\n",
        "\n",
        "  data = pd.read_csv('/content/drive/MyDrive/projet_a3_ia/data_clean.csv')\n",
        "  print('\\n avant tri \\n',data['MMSI'].head(10))\n",
        "  data = data.sort_values('MMSI')\n",
        "  print('\\n apres tri \\n',data['MMSI'].head(10))"
      ]
    },
    {
      "cell_type": "markdown",
      "metadata": {
        "id": "Y_tRGeeQ6t0z"
      },
      "source": [
        "### Suppression des colonnes non désirables et formatage des donnees"
      ]
    },
    {
      "cell_type": "code",
      "execution_count": 18,
      "metadata": {
        "collapsed": true,
        "id": "o9dkzAqAsNQo",
        "colab": {
          "base_uri": "https://localhost:8080/"
        },
        "outputId": "feb613fc-fdf8-44c1-d758-9b9ed03159de"
      },
      "outputs": [
        {
          "output_type": "stream",
          "name": "stdout",
          "text": [
            "colonnes :  Index(['MMSI', 'VesselType', 'Length', 'Width', 'Draft'], dtype='object')\n",
            "\n",
            " avant changement de types \n",
            "              MMSI  VesselType  Length  Width  Draft\n",
            "23795   205776000          70     200   32.0    7.0\n",
            "52999   205776000          70     200   32.0    7.0\n",
            "137429  205776000          70     200   32.0    7.0\n",
            "12888   205776000          70     200   32.0    7.0\n",
            "129964  205776000          70     200   32.0    7.0\n",
            "7691    205776000          70     200   32.0    7.0\n",
            "65892   205776000          70     200   32.0    7.0\n",
            "59946   205776000          70     200   32.0    7.0\n",
            "98259   205776000          70     200   32.0   11.8\n",
            "120487  205776000          70     200   32.0   11.8\n",
            "\n",
            " apres changement de types \n",
            "              MMSI VesselType  Length  Width  Draft\n",
            "23795   205776000         70   200.0   32.0    7.0\n",
            "52999   205776000         70   200.0   32.0    7.0\n",
            "137429  205776000         70   200.0   32.0    7.0\n",
            "12888   205776000         70   200.0   32.0    7.0\n",
            "129964  205776000         70   200.0   32.0    7.0\n",
            "7691    205776000         70   200.0   32.0    7.0\n",
            "65892   205776000         70   200.0   32.0    7.0\n",
            "59946   205776000         70   200.0   32.0    7.0\n",
            "98259   205776000         70   200.0   32.0   11.8\n",
            "120487  205776000         70   200.0   32.0   11.8\n",
            "\n",
            " Nombre de bateau pour chaque Vesseltype :\n",
            " VesselType\n",
            "60    116110\n",
            "80     58526\n",
            "70     56903\n",
            "Name: count, dtype: int64\n"
          ]
        }
      ],
      "source": [
        "data = data.drop(columns=['id','BaseDateTime','LAT','LON','COG','Heading','VesselName','IMO','CallSign','TransceiverClass','Status','Cargo','SOG'])\n",
        "print('colonnes : ', data.columns)\n",
        "\n",
        "data['VesselType'] = data['VesselType'].apply(lambda VT_value: 60 if 60 <= VT_value <= 69 else VT_value)\n",
        "data['VesselType'] = data['VesselType'].apply(lambda VT_value: 70 if 70 <= VT_value <= 79 else VT_value)\n",
        "data['VesselType'] = data['VesselType'].apply(lambda VT_value: 80 if 80 <= VT_value <= 89 else VT_value)\n",
        "\n",
        "print('\\n avant changement de types \\n',data.head(10))\n",
        "data = data.astype({'MMSI' : str,'VesselType' : str, 'Length' : float, 'Width' : float, 'Draft' : float}) #, 'SOG' : float\n",
        "print('\\n apres changement de types \\n',data.head(10))\n",
        "print('\\n Nombre de bateau pour chaque Vesseltype :\\n',data['VesselType'].value_counts())"
      ]
    },
    {
      "cell_type": "markdown",
      "source": [
        "### Tri des doublons pour éviter l'Overfitting"
      ],
      "metadata": {
        "id": "VXTbB6xzm_An"
      }
    },
    {
      "cell_type": "code",
      "source": [
        "print(\"Il y a\",data['MMSI'].nunique(),\"bateaux dans la base de donnees\")\n",
        "data.drop_duplicates(subset='MMSI', inplace=True)"
      ],
      "metadata": {
        "colab": {
          "base_uri": "https://localhost:8080/"
        },
        "id": "FY-HtAE7m-es",
        "outputId": "21c410b0-89c2-409d-b342-074c48cc72f2"
      },
      "execution_count": 19,
      "outputs": [
        {
          "output_type": "stream",
          "name": "stdout",
          "text": [
            "Il y a 89 bateaux dans la base de donnees\n"
          ]
        }
      ]
    },
    {
      "cell_type": "markdown",
      "metadata": {
        "id": "8j-TMvmg62D4"
      },
      "source": [
        "### Base train et test et deplacement bateau de la fin base de train"
      ]
    },
    {
      "cell_type": "code",
      "execution_count": 20,
      "metadata": {
        "collapsed": true,
        "id": "-GLrGjSJ0X0s",
        "colab": {
          "base_uri": "https://localhost:8080/"
        },
        "outputId": "2fd58590-39b8-4938-eb1c-7e41db966d72"
      },
      "outputs": [
        {
          "output_type": "stream",
          "name": "stdout",
          "text": [
            "train data :  71 soit :  79.775 % du jeu de donnees\n",
            "train test :  18 soit :  20.225 % du jeu de donnees\n",
            "\n",
            "\n",
            "Fin de base train : 67125    563128800\n",
            "Name: MMSI, dtype: object\n",
            "Début de base test : 150680    563136900\n",
            "Name: MMSI, dtype: object\n",
            "\n",
            "\n",
            "Fin de base train : 67125    563128800\n",
            "Name: MMSI, dtype: object\n",
            "Début de base test : 0    563136900\n",
            "Name: MMSI, dtype: object\n",
            "\n",
            "train data :  71 soit :  79.775 % du jeu de donnees\n",
            "train test :  18 soit :  20.225 % du jeu de donnees\n"
          ]
        }
      ],
      "source": [
        "train_data, test_data = train_test_split(data, test_size=0.2, shuffle=False)\n",
        "\n",
        "print('train data : ',len(train_data), 'soit : ', format((len(train_data)/len(data))*100,'.3f'),'% du jeu de donnees')\n",
        "print('train test : ',len(test_data), 'soit : ', format((len(test_data)/len(data))*100,'.3f'),'% du jeu de donnees')\n",
        "\n",
        "print('\\n')\n",
        "print(\"Fin de base train :\",train_data['MMSI'].tail(1))\n",
        "print(\"Début de base test :\",test_data['MMSI'].head(1))\n",
        "\n",
        "mmsi_target = test_data['MMSI'].iloc[0]\n",
        "\n",
        "line_to_move = train_data[train_data['MMSI'] == mmsi_target]\n",
        "\n",
        "test_data = pd.concat([test_data, line_to_move], ignore_index=True)\n",
        "train_data = train_data[train_data['MMSI'] != mmsi_target]\n",
        "\n",
        "print('\\n')\n",
        "print(\"Fin de base train :\",train_data['MMSI'].tail(1))\n",
        "print(\"Début de base test :\",test_data['MMSI'].head(1))\n",
        "\n",
        "print('\\ntrain data : ',len(train_data), 'soit : ', format((len(train_data)/len(data))*100,'.3f'),'% du jeu de donnees')\n",
        "print('train test : ',len(test_data), 'soit : ', format((len(test_data)/len(data))*100,'.3f'),'% du jeu de donnees')"
      ]
    },
    {
      "cell_type": "markdown",
      "metadata": {
        "id": "EXAKSuSp7EvX"
      },
      "source": [
        "### Scaler sur les donnees quantitatives"
      ]
    },
    {
      "cell_type": "code",
      "execution_count": 21,
      "metadata": {
        "id": "wXB1m5FuuWB7",
        "colab": {
          "base_uri": "https://localhost:8080/"
        },
        "outputId": "a80c9f37-af9b-45fa-de10-538b3aef44ac"
      },
      "outputs": [
        {
          "output_type": "stream",
          "name": "stdout",
          "text": [
            "avant preprocessing :\n",
            "\n",
            "length min: 13.0 length max: 334.0\n",
            "width min: 4.0 width max: 60.0\n",
            "Draft min: 1.9 Draft max: 25.51\n",
            "\n",
            "\n",
            "\n",
            "              MMSI VesselType  Length  Width  Draft\n",
            "23795   205776000         70   200.0   32.0    7.0\n",
            "49      215583000         80   299.0   46.0    9.4\n",
            "71977   241770000         80   274.0   48.0    9.6\n",
            "29168   248392000         60   323.0   44.0    8.5\n",
            "102860  248680000         70   185.0   30.0    7.2\n",
            "185579  248895000         80   249.0   44.0    8.4\n",
            "161041  257087080         70   189.0   32.0   10.5\n",
            "71463   309587000         70   189.0   31.0   12.8\n",
            "166541  311000808         70   197.0   32.0   11.6\n",
            "58644   311070400         70   180.0   30.0   10.1\n",
            "\n",
            "après preprocessing :\n",
            "\n",
            "length min: -1.27 length max: 1.98\n",
            "width min: -1.28 width max: 2.37\n",
            "Draft min: -2.45 Draft max: 4.50\n",
            "\n",
            "\n",
            "\n",
            "              MMSI VesselType    Length     Width     Draft\n",
            "23795   205776000         70  0.624813  0.543987 -0.953093\n",
            "49      215583000         80  1.625909  1.454708 -0.246656\n",
            "71977   241770000         80  1.373107  1.584811 -0.187786\n",
            "29168   248392000         60  1.868599  1.324605 -0.511570\n",
            "102860  248680000         70  0.473132  0.413884 -0.894223\n",
            "185579  248895000         80  1.120305  1.324605 -0.541005\n",
            "161041  257087080         70  0.513580  0.543987  0.077127\n",
            "71463   309587000         70  0.513580  0.478936  0.754129\n",
            "166541  311000808         70  0.594477  0.543987  0.400911\n",
            "58644   311070400         70  0.422571  0.413884 -0.040612\n"
          ]
        }
      ],
      "source": [
        "from sklearn import preprocessing\n",
        "\n",
        "print(\"avant preprocessing :\\n\")\n",
        "print(\"length min:\",train_data['Length'].min(),\"length max:\", train_data['Length'].max())\n",
        "print(\"width min:\",train_data['Width'].min(),\"width max:\", train_data['Width'].max())\n",
        "print(\"Draft min:\",train_data['Draft'].min(),\"Draft max:\", format(train_data['Draft'].max(),'.2f'))\n",
        "print('\\n\\n\\n',train_data.head(10))\n",
        "\n",
        "scaler = preprocessing.StandardScaler()\n",
        "train_data[['Length','Width','Draft']] = scaler.fit_transform(train_data[['Length','Width','Draft']])\n",
        "\n",
        "print(\"\\naprès preprocessing :\")\n",
        "print(\"\\nlength min:\",format(train_data['Length'].min(),'.2f'),\"length max:\", format(train_data['Length'].max(),'.2f'))\n",
        "print(\"width min:\",format(train_data['Width'].min(),'.2f'),\"width max:\", format(train_data['Width'].max(), '.2f'))\n",
        "print(\"Draft min:\",format(train_data['Draft'].min(),'.2f'),\"Draft max:\", format(train_data['Draft'].max(),'.2f'))\n",
        "print('\\n\\n\\n',train_data.head(10))"
      ]
    },
    {
      "cell_type": "markdown",
      "metadata": {
        "id": "QvpNfZHD7Qw7"
      },
      "source": [
        "### Separation X et Y"
      ]
    },
    {
      "cell_type": "code",
      "execution_count": 22,
      "metadata": {
        "id": "ZeGnhqpsByDo"
      },
      "outputs": [],
      "source": [
        "#Separation en X et Y\n",
        "X_train = train_data.drop(columns=['MMSI','VesselType'])\n",
        "Y_train = train_data['VesselType']\n",
        "\n",
        "X_test = test_data.drop(columns=['MMSI','VesselType'])\n",
        "Y_test = test_data['VesselType']"
      ]
    },
    {
      "cell_type": "markdown",
      "metadata": {
        "id": "_ZCb0B9C7ZPH"
      },
      "source": [
        "## Apprentissage supervisé pour la classification"
      ]
    },
    {
      "cell_type": "markdown",
      "metadata": {
        "id": "f_3t9WFXGtl5"
      },
      "source": [
        "### TEST SGDClassfier"
      ]
    },
    {
      "cell_type": "code",
      "execution_count": 23,
      "metadata": {
        "collapsed": true,
        "id": "41hds8ukKbwd",
        "colab": {
          "base_uri": "https://localhost:8080/",
          "height": 496
        },
        "outputId": "ad627f82-8c6d-47ba-aa52-217a58954b17"
      },
      "outputs": [
        {
          "output_type": "stream",
          "name": "stdout",
          "text": [
            "accuracy_SGD= 0.79\n"
          ]
        },
        {
          "output_type": "display_data",
          "data": {
            "text/plain": [
              "<Figure size 480x480 with 1 Axes>"
            ],
            "image/png": "[encoded data removed]"
          },
          "metadata": {}
        }
      ],
      "source": [
        "#Test SGDC\n",
        "SGDClassifier = SGDClassifier()\n",
        "model = SGDClassifier.fit(X_train, Y_train)\n",
        "\n",
        "pred_SGD = cvp(model, X_train, Y_train, cv=3)\n",
        "\n",
        "accuracy_SGD = cv(SGDClassifier, X_train, Y_train, cv=3, scoring=\"accuracy\")\n",
        "mat_SGD = confusion_matrix(Y_train, pred_SGD)\n",
        "\n",
        "\n",
        "print(\"accuracy_SGD=\", format(accuracy_SGD.mean(), '.2f'))\n",
        "\n",
        "\n",
        "plt.matshow(mat_SGD, cmap=mpl.cm.Reds)\n",
        "for (i,j), val in np.ndenumerate(mat_SGD):\n",
        "  plt.text(j, i, f'{val:.1f}', ha='center', va='center', color='black', fontsize=14)\n",
        "  plt.xlabel('Prédictions')\n",
        "  plt.ylabel('Vraies valeurs')\n",
        "  plt.title('Matrice de Confusion : Méthode SGD')"
      ]
    },
    {
      "cell_type": "markdown",
      "metadata": {
        "id": "kSnNV12vG0HJ"
      },
      "source": [
        "### TEST Random Forest Classifier"
      ]
    },
    {
      "cell_type": "code",
      "execution_count": 24,
      "metadata": {
        "id": "sNNtwwafz0B4",
        "colab": {
          "base_uri": "https://localhost:8080/",
          "height": 496
        },
        "outputId": "a2eac25e-a498-4f91-b764-91452a16de3b"
      },
      "outputs": [
        {
          "output_type": "stream",
          "name": "stdout",
          "text": [
            "accuracy_RFC= 0.84\n"
          ]
        },
        {
          "output_type": "display_data",
          "data": {
            "text/plain": [
              "<Figure size 480x480 with 1 Axes>"
            ],
            "image/png": "[encoded data removed]"
          },
          "metadata": {}
        }
      ],
      "source": [
        "#Test Random Forest Classifier\n",
        "RFC = RandomForestClassifier()\n",
        "model = RFC.fit(X_train, Y_train)\n",
        "\n",
        "pred_RFC = cvp(model, X_train, Y_train, cv=3)\n",
        "\n",
        "accuracy_RFC = cv(RFC, X_train, Y_train, cv=3, scoring=\"accuracy\")\n",
        "mat_RFC = confusion_matrix(Y_train, pred_RFC)\n",
        "\n",
        "print(\"accuracy_RFC=\", format(accuracy_RFC.mean(), '.2f'))\n",
        "\n",
        "plt.matshow(mat_RFC, cmap=mpl.cm.Reds)\n",
        "for (i,j), val in np.ndenumerate(mat_RFC):\n",
        "  plt.text(j, i, f'{val:.1f}', ha='center', va='center', color='black', fontsize=14)\n",
        "  plt.xlabel('Prédictions')\n",
        "  plt.ylabel('Vraies valeurs')\n",
        "  plt.title('Matrice de Confusion : Méthode RFC')"
      ]
    },
    {
      "cell_type": "markdown",
      "metadata": {
        "id": "per088pFHHbe"
      },
      "source": [
        "### TEST Logistic Regression"
      ]
    },
    {
      "cell_type": "code",
      "execution_count": 25,
      "metadata": {
        "id": "1gJ3T9CVFEV5",
        "colab": {
          "base_uri": "https://localhost:8080/",
          "height": 496
        },
        "outputId": "c031f092-c833-419a-ae01-5b75be982e26"
      },
      "outputs": [
        {
          "output_type": "stream",
          "name": "stdout",
          "text": [
            "accuracy_LR= 0.80\n"
          ]
        },
        {
          "output_type": "display_data",
          "data": {
            "text/plain": [
              "<Figure size 480x480 with 1 Axes>"
            ],
            "image/png": "[encoded data removed]"
          },
          "metadata": {}
        }
      ],
      "source": [
        "#Test Logistic Regression\n",
        "LR = LogisticRegression()\n",
        "model = LR.fit(X_train, Y_train)\n",
        "\n",
        "pred_LR = cvp(model, X_train, Y_train, cv=3)\n",
        "\n",
        "accuracy_LR = cv(LR, X_train, Y_train, cv=3, scoring=\"accuracy\")\n",
        "mat_LR = confusion_matrix(Y_train, pred_LR)\n",
        "\n",
        "print(\"accuracy_LR=\", format(accuracy_LR.mean(), '.2f'))\n",
        "\n",
        "plt.matshow(mat_LR, cmap=mpl.cm.Reds)\n",
        "for (i,j), val in np.ndenumerate(mat_LR):\n",
        "  plt.text(j, i, f'{val:.1f}', ha='center', va='center', color='black', fontsize=14)\n",
        "  plt.xlabel('Prédictions')\n",
        "  plt.ylabel('Vraies valeurs')\n",
        "  plt.title('Matrice de Confusion : Méthode LR')"
      ]
    },
    {
      "cell_type": "markdown",
      "metadata": {
        "id": "l6w-8KA5yAJv"
      },
      "source": [
        "## Grid Search"
      ]
    },
    {
      "cell_type": "code",
      "execution_count": 26,
      "metadata": {
        "colab": {
          "base_uri": "https://localhost:8080/",
          "height": 837
        },
        "id": "NhTRiiPcyNpr",
        "outputId": "1e377e98-e08d-4b4c-f13b-969ae63d7004"
      },
      "outputs": [
        {
          "output_type": "stream",
          "name": "stdout",
          "text": [
            "{'max_depth': 10, 'max_features': 'sqrt', 'n_estimators': 50}\n"
          ]
        },
        {
          "output_type": "execute_result",
          "data": {
            "text/plain": [
              "   mean_fit_time  std_fit_time  mean_score_time  std_score_time  \\\n",
              "0       0.075926      0.003469         0.006909        0.001434   \n",
              "1       0.151606      0.008519         0.008769        0.000230   \n",
              "2       0.874098      0.184224         0.048087        0.011849   \n",
              "3       0.119005      0.006940         0.008626        0.000655   \n",
              "4       0.244940      0.010603         0.013220        0.000838   \n",
              "5       0.920153      0.174794         0.046067        0.007476   \n",
              "6       0.073157      0.001077         0.005733        0.000289   \n",
              "7       0.150943      0.010659         0.009176        0.000449   \n",
              "8       0.719551      0.010471         0.035721        0.001191   \n",
              "\n",
              "   param_max_depth param_max_features  param_n_estimators  \\\n",
              "0                5               sqrt                  50   \n",
              "1                5               sqrt                 100   \n",
              "2                5               sqrt                 500   \n",
              "3               10               sqrt                  50   \n",
              "4               10               sqrt                 100   \n",
              "5               10               sqrt                 500   \n",
              "6               20               sqrt                  50   \n",
              "7               20               sqrt                 100   \n",
              "8               20               sqrt                 500   \n",
              "\n",
              "                                              params  split0_test_score  \\\n",
              "0  {'max_depth': 5, 'max_features': 'sqrt', 'n_es...           0.833333   \n",
              "1  {'max_depth': 5, 'max_features': 'sqrt', 'n_es...           0.875000   \n",
              "2  {'max_depth': 5, 'max_features': 'sqrt', 'n_es...           0.833333   \n",
              "3  {'max_depth': 10, 'max_features': 'sqrt', 'n_e...           0.875000   \n",
              "4  {'max_depth': 10, 'max_features': 'sqrt', 'n_e...           0.875000   \n",
              "5  {'max_depth': 10, 'max_features': 'sqrt', 'n_e...           0.875000   \n",
              "6  {'max_depth': 20, 'max_features': 'sqrt', 'n_e...           0.875000   \n",
              "7  {'max_depth': 20, 'max_features': 'sqrt', 'n_e...           0.833333   \n",
              "8  {'max_depth': 20, 'max_features': 'sqrt', 'n_e...           0.875000   \n",
              "\n",
              "   split1_test_score  split2_test_score  mean_test_score  std_test_score  \\\n",
              "0           0.875000           0.782609         0.830314        0.037779   \n",
              "1           0.916667           0.782609         0.858092        0.056020   \n",
              "2           0.916667           0.782609         0.844203        0.055266   \n",
              "3           0.916667           0.826087         0.872585        0.037018   \n",
              "4           0.916667           0.826087         0.872585        0.037018   \n",
              "5           0.916667           0.782609         0.858092        0.056020   \n",
              "6           0.875000           0.782609         0.844203        0.043554   \n",
              "7           0.916667           0.782609         0.844203        0.055266   \n",
              "8           0.916667           0.782609         0.858092        0.056020   \n",
              "\n",
              "   rank_test_score  \n",
              "0                9  \n",
              "1                3  \n",
              "2                6  \n",
              "3                1  \n",
              "4                1  \n",
              "5                3  \n",
              "6                6  \n",
              "7                6  \n",
              "8                3  "
            ],
            "text/html": [
              "\n",
              "  <div id=\"df-f7da941e-7476-4894-bb39-fa7226f35887\" class=\"colab-df-container\">\n",
              "    <div>\n",
              "<style scoped>\n",
              "    .dataframe tbody tr th:only-of-type {\n",
              "        vertical-align: middle;\n",
              "    }\n",
              "\n",
              "    .dataframe tbody tr th {\n",
              "        vertical-align: top;\n",
              "    }\n",
              "\n",
              "    .dataframe thead th {\n",
              "        text-align: right;\n",
              "    }\n",
              "</style>\n",
              "<table border=\"1\" class=\"dataframe\">\n",
              "  <thead>\n",
              "    <tr style=\"text-align: right;\">\n",
              "      <th></th>\n",
              "      <th>mean_fit_time</th>\n",
              "      <th>std_fit_time</th>\n",
              "      <th>mean_score_time</th>\n",
              "      <th>std_score_time</th>\n",
              "      <th>param_max_depth</th>\n",
              "      <th>param_max_features</th>\n",
              "      <th>param_n_estimators</th>\n",
              "      <th>params</th>\n",
              "      <th>split0_test_score</th>\n",
              "      <th>split1_test_score</th>\n",
              "      <th>split2_test_score</th>\n",
              "      <th>mean_test_score</th>\n",
              "      <th>std_test_score</th>\n",
              "      <th>rank_test_score</th>\n",
              "    </tr>\n",
              "  </thead>\n",
              "  <tbody>\n",
              "    <tr>\n",
              "      <th>0</th>\n",
              "      <td>0.075926</td>\n",
              "      <td>0.003469</td>\n",
              "      <td>0.006909</td>\n",
              "      <td>0.001434</td>\n",
              "      <td>5</td>\n",
              "      <td>sqrt</td>\n",
              "      <td>50</td>\n",
              "      <td>{'max_depth': 5, 'max_features': 'sqrt', 'n_es...</td>\n",
              "      <td>0.833333</td>\n",
              "      <td>0.875000</td>\n",
              "      <td>0.782609</td>\n",
              "      <td>0.830314</td>\n",
              "      <td>0.037779</td>\n",
              "      <td>9</td>\n",
              "    </tr>\n",
              "    <tr>\n",
              "      <th>1</th>\n",
              "      <td>0.151606</td>\n",
              "      <td>0.008519</td>\n",
              "      <td>0.008769</td>\n",
              "      <td>0.000230</td>\n",
              "      <td>5</td>\n",
              "      <td>sqrt</td>\n",
              "      <td>100</td>\n",
              "      <td>{'max_depth': 5, 'max_features': 'sqrt', 'n_es...</td>\n",
              "      <td>0.875000</td>\n",
              "      <td>0.916667</td>\n",
              "      <td>0.782609</td>\n",
              "      <td>0.858092</td>\n",
              "      <td>0.056020</td>\n",
              "      <td>3</td>\n",
              "    </tr>\n",
              "    <tr>\n",
              "      <th>2</th>\n",
              "      <td>0.874098</td>\n",
              "      <td>0.184224</td>\n",
              "      <td>0.048087</td>\n",
              "      <td>0.011849</td>\n",
              "      <td>5</td>\n",
              "      <td>sqrt</td>\n",
              "      <td>500</td>\n",
              "      <td>{'max_depth': 5, 'max_features': 'sqrt', 'n_es...</td>\n",
              "      <td>0.833333</td>\n",
              "      <td>0.916667</td>\n",
              "      <td>0.782609</td>\n",
              "      <td>0.844203</td>\n",
              "      <td>0.055266</td>\n",
              "      <td>6</td>\n",
              "    </tr>\n",
              "    <tr>\n",
              "      <th>3</th>\n",
              "      <td>0.119005</td>\n",
              "      <td>0.006940</td>\n",
              "      <td>0.008626</td>\n",
              "      <td>0.000655</td>\n",
              "      <td>10</td>\n",
              "      <td>sqrt</td>\n",
              "      <td>50</td>\n",
              "      <td>{'max_depth': 10, 'max_features': 'sqrt', 'n_e...</td>\n",
              "      <td>0.875000</td>\n",
              "      <td>0.916667</td>\n",
              "      <td>0.826087</td>\n",
              "      <td>0.872585</td>\n",
              "      <td>0.037018</td>\n",
              "      <td>1</td>\n",
              "    </tr>\n",
              "    <tr>\n",
              "      <th>4</th>\n",
              "      <td>0.244940</td>\n",
              "      <td>0.010603</td>\n",
              "      <td>0.013220</td>\n",
              "      <td>0.000838</td>\n",
              "      <td>10</td>\n",
              "      <td>sqrt</td>\n",
              "      <td>100</td>\n",
              "      <td>{'max_depth': 10, 'max_features': 'sqrt', 'n_e...</td>\n",
              "      <td>0.875000</td>\n",
              "      <td>0.916667</td>\n",
              "      <td>0.826087</td>\n",
              "      <td>0.872585</td>\n",
              "      <td>0.037018</td>\n",
              "      <td>1</td>\n",
              "    </tr>\n",
              "    <tr>\n",
              "      <th>5</th>\n",
              "      <td>0.920153</td>\n",
              "      <td>0.174794</td>\n",
              "      <td>0.046067</td>\n",
              "      <td>0.007476</td>\n",
              "      <td>10</td>\n",
              "      <td>sqrt</td>\n",
              "      <td>500</td>\n",
              "      <td>{'max_depth': 10, 'max_features': 'sqrt', 'n_e...</td>\n",
              "      <td>0.875000</td>\n",
              "      <td>0.916667</td>\n",
              "      <td>0.782609</td>\n",
              "      <td>0.858092</td>\n",
              "      <td>0.056020</td>\n",
              "      <td>3</td>\n",
              "    </tr>\n",
              "    <tr>\n",
              "      <th>6</th>\n",
              "      <td>0.073157</td>\n",
              "      <td>0.001077</td>\n",
              "      <td>0.005733</td>\n",
              "      <td>0.000289</td>\n",
              "      <td>20</td>\n",
              "      <td>sqrt</td>\n",
              "      <td>50</td>\n",
              "      <td>{'max_depth': 20, 'max_features': 'sqrt', 'n_e...</td>\n",
              "      <td>0.875000</td>\n",
              "      <td>0.875000</td>\n",
              "      <td>0.782609</td>\n",
              "      <td>0.844203</td>\n",
              "      <td>0.043554</td>\n",
              "      <td>6</td>\n",
              "    </tr>\n",
              "    <tr>\n",
              "      <th>7</th>\n",
              "      <td>0.150943</td>\n",
              "      <td>0.010659</td>\n",
              "      <td>0.009176</td>\n",
              "      <td>0.000449</td>\n",
              "      <td>20</td>\n",
              "      <td>sqrt</td>\n",
              "      <td>100</td>\n",
              "      <td>{'max_depth': 20, 'max_features': 'sqrt', 'n_e...</td>\n",
              "      <td>0.833333</td>\n",
              "      <td>0.916667</td>\n",
              "      <td>0.782609</td>\n",
              "      <td>0.844203</td>\n",
              "      <td>0.055266</td>\n",
              "      <td>6</td>\n",
              "    </tr>\n",
              "    <tr>\n",
              "      <th>8</th>\n",
              "      <td>0.719551</td>\n",
              "      <td>0.010471</td>\n",
              "      <td>0.035721</td>\n",
              "      <td>0.001191</td>\n",
              "      <td>20</td>\n",
              "      <td>sqrt</td>\n",
              "      <td>500</td>\n",
              "      <td>{'max_depth': 20, 'max_features': 'sqrt', 'n_e...</td>\n",
              "      <td>0.875000</td>\n",
              "      <td>0.916667</td>\n",
              "      <td>0.782609</td>\n",
              "      <td>0.858092</td>\n",
              "      <td>0.056020</td>\n",
              "      <td>3</td>\n",
              "    </tr>\n",
              "  </tbody>\n",
              "</table>\n",
              "</div>\n",
              "    <div class=\"colab-df-buttons\">\n",
              "\n",
              "  <div class=\"colab-df-container\">\n",
              "    <button class=\"colab-df-convert\" onclick=\"convertToInteractive('df-f7da941e-7476-4894-bb39-fa7226f35887')\"\n",
              "            title=\"Convert this dataframe to an interactive table.\"\n",
              "            style=\"display:none;\">\n",
              "\n",
              "  <svg xmlns=\"http://www.w3.org/2000/svg\" height=\"24px\" viewBox=\"0 -960 960 960\">\n",
              "    <path d=\"M120-120v-720h720v720H120Zm60-500h600v-160H180v160Zm220 220h160v-160H400v160Zm0 220h160v-160H400v160ZM180-400h160v-160H180v160Zm440 0h160v-160H620v160ZM180-180h160v-160H180v160Zm440 0h160v-160H620v160Z\"/>\n",
              "  </svg>\n",
              "    </button>\n",
              "\n",
              "  <style>\n",
              "    .colab-df-container {\n",
              "      display:flex;\n",
              "      gap: 12px;\n",
              "    }\n",
              "\n",
              "    .colab-df-convert {\n",
              "      background-color: #E8F0FE;\n",
              "      border: none;\n",
              "      border-radius: 50%;\n",
              "      cursor: pointer;\n",
              "      display: none;\n",
              "      fill: #1967D2;\n",
              "      height: 32px;\n",
              "      padding: 0 0 0 0;\n",
              "      width: 32px;\n",
              "    }\n",
              "\n",
              "    .colab-df-convert:hover {\n",
              "      background-color: #E2EBFA;\n",
              "      box-shadow: 0px 1px 2px rgba(60, 64, 67, 0.3), 0px 1px 3px 1px rgba(60, 64, 67, 0.15);\n",
              "      fill: #174EA6;\n",
              "    }\n",
              "\n",
              "    .colab-df-buttons div {\n",
              "      margin-bottom: 4px;\n",
              "    }\n",
              "\n",
              "    [theme=dark] .colab-df-convert {\n",
              "      background-color: #3B4455;\n",
              "      fill: #D2E3FC;\n",
              "    }\n",
              "\n",
              "    [theme=dark] .colab-df-convert:hover {\n",
              "      background-color: #434B5C;\n",
              "      box-shadow: 0px 1px 3px 1px rgba(0, 0, 0, 0.15);\n",
              "      filter: drop-shadow(0px 1px 2px rgba(0, 0, 0, 0.3));\n",
              "      fill: #FFFFFF;\n",
              "    }\n",
              "  </style>\n",
              "\n",
              "    <script>\n",
              "      const buttonEl =\n",
              "        document.querySelector('#df-f7da941e-7476-4894-bb39-fa7226f35887 button.colab-df-convert');\n",
              "      buttonEl.style.display =\n",
              "        google.colab.kernel.accessAllowed ? 'block' : 'none';\n",
              "\n",
              "      async function convertToInteractive(key) {\n",
              "        const element = document.querySelector('#df-f7da941e-7476-4894-bb39-fa7226f35887');\n",
              "        const dataTable =\n",
              "          await google.colab.kernel.invokeFunction('convertToInteractive',\n",
              "                                                    [key], {});\n",
              "        if (!dataTable) return;\n",
              "\n",
              "        const docLinkHtml = 'Like what you see? Visit the ' +\n",
              "          '<a target=\"_blank\" href=https://colab.research.google.com/notebooks/data_table.ipynb>data table notebook</a>'\n",
              "          + ' to learn more about interactive tables.';\n",
              "        element.innerHTML = '';\n",
              "        dataTable['output_type'] = 'display_data';\n",
              "        await google.colab.output.renderOutput(dataTable, element);\n",
              "        const docLink = document.createElement('div');\n",
              "        docLink.innerHTML = docLinkHtml;\n",
              "        element.appendChild(docLink);\n",
              "      }\n",
              "    </script>\n",
              "  </div>\n",
              "\n",
              "\n",
              "    <div id=\"df-6774fb11-f41a-4457-8ffb-6da9ec20c871\">\n",
              "      <button class=\"colab-df-quickchart\" onclick=\"quickchart('df-6774fb11-f41a-4457-8ffb-6da9ec20c871')\"\n",
              "                title=\"Suggest charts\"\n",
              "                style=\"display:none;\">\n",
              "\n",
              "<svg xmlns=\"http://www.w3.org/2000/svg\" height=\"24px\"viewBox=\"0 0 24 24\"\n",
              "     width=\"24px\">\n",
              "    <g>\n",
              "        <path d=\"M19 3H5c-1.1 0-2 .9-2 2v14c0 1.1.9 2 2 2h14c1.1 0 2-.9 2-2V5c0-1.1-.9-2-2-2zM9 17H7v-7h2v7zm4 0h-2V7h2v10zm4 0h-2v-4h2v4z\"/>\n",
              "    </g>\n",
              "</svg>\n",
              "      </button>\n",
              "\n",
              "<style>\n",
              "  .colab-df-quickchart {\n",
              "      --bg-color: #E8F0FE;\n",
              "      --fill-color: #1967D2;\n",
              "      --hover-bg-color: #E2EBFA;\n",
              "      --hover-fill-color: #174EA6;\n",
              "      --disabled-fill-color: #AAA;\n",
              "      --disabled-bg-color: #DDD;\n",
              "  }\n",
              "\n",
              "  [theme=dark] .colab-df-quickchart {\n",
              "      --bg-color: #3B4455;\n",
              "      --fill-color: #D2E3FC;\n",
              "      --hover-bg-color: #434B5C;\n",
              "      --hover-fill-color: #FFFFFF;\n",
              "      --disabled-bg-color: #3B4455;\n",
              "      --disabled-fill-color: #666;\n",
              "  }\n",
              "\n",
              "  .colab-df-quickchart {\n",
              "    background-color: var(--bg-color);\n",
              "    border: none;\n",
              "    border-radius: 50%;\n",
              "    cursor: pointer;\n",
              "    display: none;\n",
              "    fill: var(--fill-color);\n",
              "    height: 32px;\n",
              "    padding: 0;\n",
              "    width: 32px;\n",
              "  }\n",
              "\n",
              "  .colab-df-quickchart:hover {\n",
              "    background-color: var(--hover-bg-color);\n",
              "    box-shadow: 0 1px 2px rgba(60, 64, 67, 0.3), 0 1px 3px 1px rgba(60, 64, 67, 0.15);\n",
              "    fill: var(--button-hover-fill-color);\n",
              "  }\n",
              "\n",
              "  .colab-df-quickchart-complete:disabled,\n",
              "  .colab-df-quickchart-complete:disabled:hover {\n",
              "    background-color: var(--disabled-bg-color);\n",
              "    fill: var(--disabled-fill-color);\n",
              "    box-shadow: none;\n",
              "  }\n",
              "\n",
              "  .colab-df-spinner {\n",
              "    border: 2px solid var(--fill-color);\n",
              "    border-color: transparent;\n",
              "    border-bottom-color: var(--fill-color);\n",
              "    animation:\n",
              "      spin 1s steps(1) infinite;\n",
              "  }\n",
              "\n",
              "  @keyframes spin {\n",
              "    0% {\n",
              "      border-color: transparent;\n",
              "      border-bottom-color: var(--fill-color);\n",
              "      border-left-color: var(--fill-color);\n",
              "    }\n",
              "    20% {\n",
              "      border-color: transparent;\n",
              "      border-left-color: var(--fill-color);\n",
              "      border-top-color: var(--fill-color);\n",
              "    }\n",
              "    30% {\n",
              "      border-color: transparent;\n",
              "      border-left-color: var(--fill-color);\n",
              "      border-top-color: var(--fill-color);\n",
              "      border-right-color: var(--fill-color);\n",
              "    }\n",
              "    40% {\n",
              "      border-color: transparent;\n",
              "      border-right-color: var(--fill-color);\n",
              "      border-top-color: var(--fill-color);\n",
              "    }\n",
              "    60% {\n",
              "      border-color: transparent;\n",
              "      border-right-color: var(--fill-color);\n",
              "    }\n",
              "    80% {\n",
              "      border-color: transparent;\n",
              "      border-right-color: var(--fill-color);\n",
              "      border-bottom-color: var(--fill-color);\n",
              "    }\n",
              "    90% {\n",
              "      border-color: transparent;\n",
              "      border-bottom-color: var(--fill-color);\n",
              "    }\n",
              "  }\n",
              "</style>\n",
              "\n",
              "      <script>\n",
              "        async function quickchart(key) {\n",
              "          const quickchartButtonEl =\n",
              "            document.querySelector('#' + key + ' button');\n",
              "          quickchartButtonEl.disabled = true;  // To prevent multiple clicks.\n",
              "          quickchartButtonEl.classList.add('colab-df-spinner');\n",
              "          try {\n",
              "            const charts = await google.colab.kernel.invokeFunction(\n",
              "                'suggestCharts', [key], {});\n",
              "          } catch (error) {\n",
              "            console.error('Error during call to suggestCharts:', error);\n",
              "          }\n",
              "          quickchartButtonEl.classList.remove('colab-df-spinner');\n",
              "          quickchartButtonEl.classList.add('colab-df-quickchart-complete');\n",
              "        }\n",
              "        (() => {\n",
              "          let quickchartButtonEl =\n",
              "            document.querySelector('#df-6774fb11-f41a-4457-8ffb-6da9ec20c871 button');\n",
              "          quickchartButtonEl.style.display =\n",
              "            google.colab.kernel.accessAllowed ? 'block' : 'none';\n",
              "        })();\n",
              "      </script>\n",
              "    </div>\n",
              "\n",
              "    </div>\n",
              "  </div>\n"
            ],
            "application/vnd.google.colaboratory.intrinsic+json": {
              "type": "dataframe",
              "summary": "{\n  \"name\": \"pd\",\n  \"rows\": 9,\n  \"fields\": [\n    {\n      \"column\": \"mean_fit_time\",\n      \"properties\": {\n        \"dtype\": \"number\",\n        \"std\": 0.35844885608242005,\n        \"min\": 0.07315731048583984,\n        \"max\": 0.9201532999674479,\n        \"num_unique_values\": 9,\n        \"samples\": [\n          0.1509427229563395,\n          0.15160600344340006,\n          0.9201532999674479\n        ],\n        \"semantic_type\": \"\",\n        \"description\": \"\"\n      }\n    },\n    {\n      \"column\": \"std_fit_time\",\n      \"properties\": {\n        \"dtype\": \"number\",\n        \"std\": 0.07600514485908239,\n        \"min\": 0.0010771525718223914,\n        \"max\": 0.1842238873058965,\n        \"num_unique_values\": 9,\n        \"samples\": [\n          0.01065928396862294,\n          0.008519377051583,\n          0.17479401607070424\n        ],\n        \"semantic_type\": \"\",\n        \"description\": \"\"\n      }\n    },\n    {\n      \"column\": \"mean_score_time\",\n      \"properties\": {\n        \"dtype\": \"number\",\n        \"std\": 0.017707643686449916,\n        \"min\": 0.005733489990234375,\n        \"max\": 0.04808680216471354,\n        \"num_unique_values\": 9,\n        \"samples\": [\n          0.009175539016723633,\n          0.00876927375793457,\n          0.04606747627258301\n        ],\n        \"semantic_type\": \"\",\n        \"description\": \"\"\n      }\n    },\n    {\n      \"column\": \"std_score_time\",\n      \"properties\": {\n        \"dtype\": \"number\",\n        \"std\": 0.004108183100517638,\n        \"min\": 0.0002299206557520708,\n        \"max\": 0.011849137776449248,\n        \"num_unique_values\": 9,\n        \"samples\": [\n          0.00044896318116791604,\n          0.0002299206557520708,\n          0.0074755432879507235\n        ],\n        \"semantic_type\": \"\",\n        \"description\": \"\"\n      }\n    },\n    {\n      \"column\": \"param_max_depth\",\n      \"properties\": {\n        \"dtype\": \"number\",\n        \"std\": 6,\n        \"min\": 5,\n        \"max\": 20,\n        \"num_unique_values\": 3,\n        \"samples\": [\n          5,\n          10,\n          20\n        ],\n        \"semantic_type\": \"\",\n        \"description\": \"\"\n      }\n    },\n    {\n      \"column\": \"param_max_features\",\n      \"properties\": {\n        \"dtype\": \"category\",\n        \"num_unique_values\": 1,\n        \"samples\": [\n          \"sqrt\"\n        ],\n        \"semantic_type\": \"\",\n        \"description\": \"\"\n      }\n    },\n    {\n      \"column\": \"param_n_estimators\",\n      \"properties\": {\n        \"dtype\": \"number\",\n        \"std\": 213,\n        \"min\": 50,\n        \"max\": 500,\n        \"num_unique_values\": 3,\n        \"samples\": [\n          50\n        ],\n        \"semantic_type\": \"\",\n        \"description\": \"\"\n      }\n    },\n    {\n      \"column\": \"params\",\n      \"properties\": {\n        \"dtype\": \"object\",\n        \"semantic_type\": \"\",\n        \"description\": \"\"\n      }\n    },\n    {\n      \"column\": \"split0_test_score\",\n      \"properties\": {\n        \"dtype\": \"number\",\n        \"std\": 0.020833333333333315,\n        \"min\": 0.8333333333333334,\n        \"max\": 0.875,\n        \"num_unique_values\": 2,\n        \"samples\": [\n          0.875\n        ],\n        \"semantic_type\": \"\",\n        \"description\": \"\"\n      }\n    },\n    {\n      \"column\": \"split1_test_score\",\n      \"properties\": {\n        \"dtype\": \"number\",\n        \"std\": 0.018373272993504084,\n        \"min\": 0.875,\n        \"max\": 0.9166666666666666,\n        \"num_unique_values\": 2,\n        \"samples\": [\n          0.9166666666666666\n        ],\n        \"semantic_type\": \"\",\n        \"description\": \"\"\n      }\n    },\n    {\n      \"column\": \"split2_test_score\",\n      \"properties\": {\n        \"dtype\": \"number\",\n        \"std\": 0.019172110949743398,\n        \"min\": 0.782608695652174,\n        \"max\": 0.8260869565217391,\n        \"num_unique_values\": 2,\n        \"samples\": [\n          0.8260869565217391\n        ],\n        \"semantic_type\": \"\",\n        \"description\": \"\"\n      }\n    },\n    {\n      \"column\": \"mean_test_score\",\n      \"properties\": {\n        \"dtype\": \"number\",\n        \"std\": 0.014091255422278594,\n        \"min\": 0.8303140096618358,\n        \"max\": 0.8725845410628019,\n        \"num_unique_values\": 4,\n        \"samples\": [\n          0.8580917874396135\n        ],\n        \"semantic_type\": \"\",\n        \"description\": \"\"\n      }\n    },\n    {\n      \"column\": \"std_test_score\",\n      \"properties\": {\n        \"dtype\": \"number\",\n        \"std\": 0.009107244516540502,\n        \"min\": 0.03701843508211134,\n        \"max\": 0.056019643204391845,\n        \"num_unique_values\": 5,\n        \"samples\": [\n          0.056019643204391845\n        ],\n        \"semantic_type\": \"\",\n        \"description\": \"\"\n      }\n    },\n    {\n      \"column\": \"rank_test_score\",\n      \"properties\": {\n        \"dtype\": \"int32\",\n        \"num_unique_values\": 4,\n        \"samples\": [\n          3\n        ],\n        \"semantic_type\": \"\",\n        \"description\": \"\"\n      }\n    }\n  ]\n}"
            }
          },
          "metadata": {},
          "execution_count": 26
        }
      ],
      "source": [
        "param_grid = [\n",
        "    {'n_estimators': [50, 100, 500], 'max_features': ['sqrt'], 'max_depth':[5,10,20]},\n",
        "]\n",
        "\n",
        "grid = GridSearchCV(RFC, param_grid=param_grid, cv=3, scoring = \"accuracy\")\n",
        "grid.fit(X_train, Y_train)\n",
        "best_params = grid.best_params_\n",
        "print(grid.best_params_)\n",
        "pd.DataFrame(grid.cv_results_)"
      ]
    },
    {
      "cell_type": "markdown",
      "metadata": {
        "id": "NBtgqAaGITFg"
      },
      "source": [
        "## Final Model"
      ]
    },
    {
      "cell_type": "code",
      "execution_count": 27,
      "metadata": {
        "colab": {
          "base_uri": "https://localhost:8080/"
        },
        "id": "rp745DVVdN5k",
        "outputId": "55a3b4da-9308-4b7e-be4f-81badc2100f3"
      },
      "outputs": [
        {
          "output_type": "stream",
          "name": "stdout",
          "text": [
            "accuracy_final_model= 0.84\n"
          ]
        }
      ],
      "source": [
        "final_model = grid.best_estimator_\n",
        "\n",
        "model = final_model.fit(X_train, Y_train)\n",
        "\n",
        "pred_final_model = cvp(model, X_train, Y_train, cv=3)\n",
        "accuracy_final_model = cv(final_model, X_train, Y_train, cv=3, scoring=\"accuracy\")\n",
        "\n",
        "print(\"accuracy_final_model=\", format(accuracy_final_model.mean(), '.2f'))"
      ]
    },
    {
      "cell_type": "markdown",
      "metadata": {
        "id": "wYUci6-Th5L2"
      },
      "source": [
        "### Extraction des Modeles"
      ]
    },
    {
      "cell_type": "code",
      "execution_count": 28,
      "metadata": {
        "id": "Jr7RsvA1h6_9"
      },
      "outputs": [],
      "source": [
        "with open('scale_2.pkl', 'wb') as f:\n",
        "  pickle.dump(scaler, f)\n",
        "\n",
        "with open('model_2.pkl', 'wb') as f:\n",
        "  pickle.dump(final_model, f)"
      ]
    }
  ],
  "metadata": {
    "colab": {
      "provenance": []
    },
    "kernelspec": {
      "display_name": "Python 3",
      "name": "python3"
    },
    "language_info": {
      "name": "python"
    }
  },
  "nbformat": 4,
  "nbformat_minor": 0
}